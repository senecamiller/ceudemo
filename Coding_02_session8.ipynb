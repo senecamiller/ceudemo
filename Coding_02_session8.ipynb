{
  "nbformat": 4,
  "nbformat_minor": 0,
  "metadata": {
    "colab": {
      "provenance": [],
      "include_colab_link": true
    },
    "kernelspec": {
      "name": "python3",
      "display_name": "Python 3"
    },
    "language_info": {
      "name": "python"
    }
  },
  "cells": [
    {
      "cell_type": "markdown",
      "metadata": {
        "id": "view-in-github",
        "colab_type": "text"
      },
      "source": [
        "<a href=\"https://colab.research.google.com/github/senecamiller/ceudemo/blob/main/Coding_02_session8.ipynb\" target=\"_parent\"><img src=\"https://colab.research.google.com/assets/colab-badge.svg\" alt=\"Open In Colab\"/></a>"
      ]
    },
    {
      "cell_type": "markdown",
      "source": [
        "#OOP\n"
      ],
      "metadata": {
        "id": "1Xr6hjj5YSd0"
      }
    },
    {
      "cell_type": "code",
      "source": [
        "class NewCar:\n",
        "    def __init__(self, brand):\n",
        "        self.brand = brand\n",
        "        self.milage = 0\n",
        "        self.is_running = False\n",
        "\n",
        "    def start_engine(self):\n",
        "        self.is_running = True\n",
        "        return f\"{self.brand} car engine started.\"\n",
        "\n",
        "    def stop_engine(self):\n",
        "        self.is_running = False\n",
        "        return f\"{self.brand} car engine stopped.\"\n",
        "\n",
        "    def drive(self, distance):\n",
        "        if self.is_running:\n",
        "            self.milage += distance\n",
        "            return f\"{self.brand} car drove {distance} miles.\"\n",
        "        else:\n",
        "            return f\"{self.brand} car is not running. Start it first\"\n",
        "\n",
        "\n",
        "\n",
        "# Example usage:\n",
        "my_car = NewCar(\"Toyota\")\n",
        "print(my_car.start_engine())\n",
        "print(my_car.drive(100))\n",
        "print(my_car.stop_engine())\n",
        "print(my_car.drive(50))"
      ],
      "metadata": {
        "colab": {
          "base_uri": "https://localhost:8080/"
        },
        "id": "Nwu33OGa1tka",
        "outputId": "b64b4bdf-2816-4bfb-a9a5-548b28f0cddf"
      },
      "execution_count": null,
      "outputs": [
        {
          "output_type": "stream",
          "name": "stdout",
          "text": [
            "Toyota car engine started.\n",
            "Toyota car drove 100 miles.\n",
            "Toyota car engine stopped.\n",
            "Toyota car is not running. Start it first\n"
          ]
        }
      ]
    },
    {
      "cell_type": "code",
      "source": [
        "class BankAccount:\n",
        "    def __init__(self, name, initial_balance):\n",
        "        self.name = name\n",
        "        self.balance = initial_balance\n",
        "\n",
        "    def display_balance(self):\n",
        "        self.name\n",
        "        return f\"Account balance for {self.name}: ${self.balance}\"\n",
        "\n",
        "    def deposit(self, deposit_amount):\n",
        "        if self.balance > 0:\n",
        "            self.balance += deposit_amount\n",
        "            return f\"${deposit_amount} deposited. New balance: ${self.balance}\"\n",
        "        else:\n",
        "            return f\"Deposit amount must be positive.\"\n",
        "\n",
        "    def withdraw(self, withdraw_amount):\n",
        "        if self.balance >= withdraw_amount:\n",
        "            self.balance -= withdraw_amount\n",
        "            return f\"${withdraw_amount} withdrawn. New balance: ${self.balance}\"\n",
        "        else:\n",
        "            return f\"Insufficient funds. Your balance is ${self.balance} you can not withdraw ${withdraw_amount}\"\n",
        "\n",
        "# Example usage:\n",
        "account1 = BankAccount(\"Alice\", 1000)\n",
        "print(account1.display_balance())\n",
        "print(account1.deposit(500))\n",
        "print(account1.withdraw(2500))\n",
        "print(account1.withdraw(200))"
      ],
      "metadata": {
        "id": "-1SH3li-cYa-",
        "outputId": "dd85d748-d05b-4152-b71d-000dc5869484",
        "colab": {
          "base_uri": "https://localhost:8080/"
        }
      },
      "execution_count": 25,
      "outputs": [
        {
          "output_type": "stream",
          "name": "stdout",
          "text": [
            "Account balance for Alice: $1000\n",
            "$500 deposited. New balance: $1500\n",
            "Insufficient funds. Your balance is $1500 you can not withdraw $2500\n",
            "$200 withdrawn. New balance: $1300\n"
          ]
        }
      ]
    },
    {
      "cell_type": "code",
      "source": [
        "class BankAccount:\n",
        "    pass\n",
        "\n",
        "\n",
        "# Example usage:\n",
        "account1 = BankAccount(\"Alice\", 1000)\n",
        "print(account1.display_balance())\n",
        "print(account1.deposit(500))\n",
        "print(account1.withdraw(2500))\n",
        "print(account1.withdraw(200))\n"
      ],
      "metadata": {
        "colab": {
          "base_uri": "https://localhost:8080/"
        },
        "id": "o00HWx2yYRza",
        "outputId": "7ea0dc6d-5946-4ec3-a985-5f208c33aef6"
      },
      "execution_count": null,
      "outputs": [
        {
          "output_type": "stream",
          "name": "stdout",
          "text": [
            "Account balance for Alice: $1000\n",
            "$500 deposited. New balance: $1500\n",
            "Insufficient funds. Your balance is $1500 you can not withdraw $2500!\n",
            "$200 withdrawn. New balance: $1300\n"
          ]
        }
      ]
    },
    {
      "cell_type": "markdown",
      "source": [
        "# Task\n",
        "Create ten random Bankaccount into a list name(5 random character) and random amount between 1000, and 10000\n",
        "\n",
        "Than find the name of the person who has the most money\n"
      ],
      "metadata": {
        "id": "XO5fV1XOizba"
      }
    },
    {
      "cell_type": "code",
      "source": [
        "import random\n",
        "import string\n",
        "\n",
        "class BankAccount:\n",
        "\n",
        "# Generate random bank accounts\n",
        "    def generate_random_name():\n",
        "        return ''.join(random.choice(string.ascii_uppercase) for _ in range(5))\n",
        "\n",
        "# Generate random account balances\n",
        "    def gnerate_random_balance():\n",
        "        return ''.join(random.randint(1000,10000))\n",
        "\n",
        "    bank_accounts = []\n",
        "\n",
        "    rich_person = ''\n",
        "    rich_person_balance = 0\n",
        "    for one_user in bank_accounts:\n",
        "        print(one_user.display_balance())\n",
        "\n",
        "        if one_user.balance > rich_person_balance:\n",
        "            rich_person_balance = one_user.balance\n",
        "            rich_person = one_user.account_holder\n",
        "\n",
        "print(f\"The person with the most money is: {rich_person} with a balance of {rich_person_balance}.\")\n"
      ],
      "metadata": {
        "id": "DNJLWgDlmnO0",
        "outputId": "715b5d09-da1e-496f-e903-43316c983fa2",
        "colab": {
          "base_uri": "https://localhost:8080/",
          "height": 173
        }
      },
      "execution_count": 35,
      "outputs": [
        {
          "output_type": "error",
          "ename": "NameError",
          "evalue": "name 'rich_person' is not defined",
          "traceback": [
            "\u001b[0;31m---------------------------------------------------------------------------\u001b[0m",
            "\u001b[0;31mNameError\u001b[0m                                 Traceback (most recent call last)",
            "\u001b[0;32m<ipython-input-35-9dfac76a62e9>\u001b[0m in \u001b[0;36m<cell line: 25>\u001b[0;34m()\u001b[0m\n\u001b[1;32m     23\u001b[0m             \u001b[0mrich_person\u001b[0m \u001b[0;34m=\u001b[0m \u001b[0mone_user\u001b[0m\u001b[0;34m.\u001b[0m\u001b[0maccount_holder\u001b[0m\u001b[0;34m\u001b[0m\u001b[0;34m\u001b[0m\u001b[0m\n\u001b[1;32m     24\u001b[0m \u001b[0;34m\u001b[0m\u001b[0m\n\u001b[0;32m---> 25\u001b[0;31m \u001b[0mprint\u001b[0m\u001b[0;34m(\u001b[0m\u001b[0;34mf\"The person with the most money is: {rich_person} with a balance of {rich_person_balance}.\"\u001b[0m\u001b[0;34m)\u001b[0m\u001b[0;34m\u001b[0m\u001b[0;34m\u001b[0m\u001b[0m\n\u001b[0m",
            "\u001b[0;31mNameError\u001b[0m: name 'rich_person' is not defined"
          ]
        }
      ]
    },
    {
      "cell_type": "code",
      "source": [
        "import random\n",
        "import string\n",
        "\n",
        "# Generate random bank accounts\n",
        "def generate_random_name():\n",
        "    return ''.join(random.choice(string.ascii_uppercase) for _ in range(5))\n",
        "\n",
        "\n",
        "bank_accounts = []\n",
        "\n",
        "print(f\"The person with the most money is: {richest_person} with a balance of {max_balance}.\")\n"
      ],
      "metadata": {
        "id": "cjYxlHlejwL8",
        "colab": {
          "base_uri": "https://localhost:8080/"
        },
        "outputId": "1974305f-631d-46c3-c02b-f679e9d04c29"
      },
      "execution_count": null,
      "outputs": [
        {
          "output_type": "stream",
          "name": "stdout",
          "text": [
            "Bank Accounts:\n",
            "Name: VAEEC, Balance: 8870\n",
            "Name: HTZVF, Balance: 6966\n",
            "Name: WIHNZ, Balance: 2883\n",
            "Name: EJXBB, Balance: 6996\n",
            "Name: HVFLK, Balance: 1591\n",
            "Name: CXTMB, Balance: 8630\n",
            "Name: TOVOC, Balance: 4011\n",
            "Name: ULZWM, Balance: 2304\n",
            "Name: IWZMG, Balance: 8562\n",
            "Name: YIWVX, Balance: 6983\n",
            "The person with the most money is: VAEEC with a balance of 8870.\n"
          ]
        }
      ]
    },
    {
      "cell_type": "code",
      "source": [
        "class ToDoItem:\n",
        "    def __init__(self):\n",
        "        self.task = task\n",
        "        self.status = status\n",
        "\n",
        "    def description(self):\n",
        "\n",
        "    def get_status(self):\n",
        "        list [not started, in progress, finished]\n",
        "\n",
        "    def add_working_hours(self):\n",
        "        +=\n",
        "\n",
        "    def mark_as_complete(self):\n",
        "        if = True:\n",
        "\n",
        "        else:\n",
        "\n",
        "\n",
        "# Example usage:\n",
        "todo1 = ToDoItem(\"Finish homework\")\n",
        "print(f\"Task: {todo1.description}, Status: {todo1.get_status()}\")\n",
        "print(todo1.add_working_hours(2))\n",
        "print(todo1.report_working_hours())\n",
        "todo1.mark_as_complete()\n",
        "print(f\"Task: {todo1.description}, Status: {todo1.get_status()}\")"
      ],
      "metadata": {
        "id": "fWJlT3JLoyyc",
        "outputId": "60a83c32-527f-41de-cd68-d98d5f4894fb",
        "colab": {
          "base_uri": "https://localhost:8080/",
          "height": 105
        }
      },
      "execution_count": 34,
      "outputs": [
        {
          "output_type": "error",
          "ename": "IndentationError",
          "evalue": "expected an indented block after function definition on line 11 (<ipython-input-34-751e8c93f8c3>, line 14)",
          "traceback": [
            "\u001b[0;36m  File \u001b[0;32m\"<ipython-input-34-751e8c93f8c3>\"\u001b[0;36m, line \u001b[0;32m14\u001b[0m\n\u001b[0;31m    todo1 = ToDoItem(\"Finish homework\"):\u001b[0m\n\u001b[0m                                        ^\u001b[0m\n\u001b[0;31mIndentationError\u001b[0m\u001b[0;31m:\u001b[0m expected an indented block after function definition on line 11\n"
          ]
        }
      ]
    },
    {
      "cell_type": "code",
      "source": [
        "class ToDoItem:\n",
        "    def __init__(self):\n",
        "        pass\n",
        "\n",
        "# Example usage:\n",
        "todo1 = ToDoItem(\"Finish homework\")\n",
        "print(f\"Task: {todo1.description}, Status: {todo1.get_status()}\")\n",
        "print(todo1.add_working_hours(2))\n",
        "print(todo1.report_working_hours())\n",
        "todo1.mark_as_complete()\n",
        "print(f\"Task: {todo1.description}, Status: {todo1.get_status()}\")\n"
      ],
      "metadata": {
        "id": "Zj_Jivx-bH9y",
        "colab": {
          "base_uri": "https://localhost:8080/"
        },
        "outputId": "6593fbdd-2203-449a-d95f-f5fffbabb8fb"
      },
      "execution_count": null,
      "outputs": [
        {
          "output_type": "stream",
          "name": "stdout",
          "text": [
            "Task: Finish homework, Status: in progress\n",
            "Added 2 hours to 'Finish homework'.\n",
            "Total working hours on 'Finish homework': 2 hours.\n",
            "Task: Finish homework, Status: completed\n"
          ]
        }
      ]
    },
    {
      "cell_type": "code",
      "source": [
        "class Car:\n",
        "    def __init__(self):\n",
        "        self.brand = brand\n",
        "        self.automobile = automobile\n",
        "        self.year_released = year\n",
        "\n",
        "    def engine_status:\n",
        "        if self.is_running = True\n",
        "            return f'Car: {year} {brand} {automobile}, Engine: {engine_status}, Mileage:'\n",
        "\n",
        "\n",
        "# Example usage:\n",
        "my_car = Car(\"Toyota\", \"Camry\", 2022)\n",
        "print(my_car.display_info())\n",
        "print(my_car.start_engine())\n",
        "print(my_car.drive(50))\n",
        "print(my_car.display_info())\n",
        "print(my_car.stop_engine())\n",
        "print(my_car.drive(30))\n",
        "print(my_car.start_engine())\n",
        "print(my_car.drive(30))\n",
        "print(my_car.display_info())"
      ],
      "metadata": {
        "id": "yohnvGF6tgme"
      },
      "execution_count": null,
      "outputs": []
    },
    {
      "cell_type": "code",
      "source": [
        "class Car:\n",
        "    def __init__(self):\n",
        "        pass\n",
        "\n",
        "\n",
        "# Example usage:\n",
        "my_car = Car(\"Toyota\", \"Camry\", 2022)\n",
        "print(my_car.display_info())\n",
        "print(my_car.start_engine())\n",
        "print(my_car.drive(50))\n",
        "print(my_car.display_info())\n",
        "print(my_car.stop_engine())\n",
        "print(my_car.drive(30))\n",
        "print(my_car.start_engine())\n",
        "print(my_car.drive(30))\n",
        "print(my_car.display_info())\n"
      ],
      "metadata": {
        "colab": {
          "base_uri": "https://localhost:8080/"
        },
        "id": "dZ2dEHlKbHt_",
        "outputId": "cb455dee-a0bc-4f1f-d38a-0d6a294775ff"
      },
      "execution_count": null,
      "outputs": [
        {
          "output_type": "stream",
          "name": "stdout",
          "text": [
            "Car: 2022 Toyota Camry, Engine: Off, Mileage: 0 miles\n",
            "Engine started.\n",
            "Car driven for 50 miles.\n",
            "Car: 2022 Toyota Camry, Engine: Running, Mileage: 50 miles\n",
            "Engine stopped.\n",
            "Engine is not running. Start the engine first.\n",
            "Car: 2022 Toyota Camry, Engine: Off, Mileage: 50 miles\n"
          ]
        }
      ]
    },
    {
      "cell_type": "code",
      "source": [
        "class CoffeeMachine:\n",
        "    def __init__(self, coffee_beans, water):\n",
        "        self.coffee_beans = coffee_beans\n",
        "        self.water = water\n",
        "        self.coffee_types = {\n",
        "            \"espresso\": {\"coffee_beans_needed\": 20, \"water_needed\": 50},\n",
        "            \"latte\": {\"coffee_beans_needed\": 30, \"water_needed\": 100},\n",
        "            \"cappuccino\": {\"coffee_beans_needed\": 25, \"water_needed\": 75},\n",
        "        }\n",
        "    def add_coffee_beans(self, amount):\n",
        "        pass\n",
        "\n",
        "    def add_water(self, amount):\n",
        "        pass\n",
        "\n",
        "    def make_coffee(self, coffee_type):\n",
        "        pass\n",
        "\n",
        "\n",
        "    def display_status(self):\n",
        "        pass\n",
        "\n",
        "\n",
        "# Example usage with user interaction:\n",
        "coffee_machine = CoffeeMachine(200, 500)\n",
        "print(coffee_machine.display_status())\n",
        "\n",
        "while True:\n",
        "    user_choice = input(\"Choose a coffee type (espresso, latte, cappuccino), 'q' to quit: \")\n",
        "\n",
        "    if user_choice == 'q':\n",
        "        break\n",
        "\n",
        "    result = coffee_machine.make_coffee(user_choice)\n",
        "    print(result)\n",
        "    print(coffee_machine.display_status())\n",
        "    print('\\n-------------\\n')\n"
      ],
      "metadata": {
        "colab": {
          "base_uri": "https://localhost:8080/",
          "height": 1000
        },
        "id": "TMQpNnJUd4oJ",
        "outputId": "9903b801-7564-491d-fa87-e09a09cf1682"
      },
      "execution_count": null,
      "outputs": [
        {
          "output_type": "stream",
          "name": "stdout",
          "text": [
            "Coffee beans: 200 grams, Water: 500 milliliters\n",
            "Choose a coffee type (espresso, latte, cappuccino), 'q' to quit: latte\n",
            "Your latte is ready! Enjoy your drink.\n",
            "Coffee beans: 170 grams, Water: 400 milliliters\n",
            "\n",
            "-------------\n",
            "\n",
            "Choose a coffee type (espresso, latte, cappuccino), 'q' to quit: latte\n",
            "Your latte is ready! Enjoy your drink.\n",
            "Coffee beans: 140 grams, Water: 300 milliliters\n",
            "\n",
            "-------------\n",
            "\n",
            "Choose a coffee type (espresso, latte, cappuccino), 'q' to quit: cappuccino\n",
            "Your cappuccino is ready! Enjoy your drink.\n",
            "Coffee beans: 115 grams, Water: 225 milliliters\n",
            "\n",
            "-------------\n",
            "\n",
            "Choose a coffee type (espresso, latte, cappuccino), 'q' to quit: latte\n",
            "Your latte is ready! Enjoy your drink.\n",
            "Coffee beans: 85 grams, Water: 125 milliliters\n",
            "\n",
            "-------------\n",
            "\n",
            "Choose a coffee type (espresso, latte, cappuccino), 'q' to quit: latte\n",
            "Your latte is ready! Enjoy your drink.\n",
            "Coffee beans: 55 grams, Water: 25 milliliters\n",
            "\n",
            "-------------\n",
            "\n",
            "Choose a coffee type (espresso, latte, cappuccino), 'q' to quit: latte\n",
            "Not enough water. Please add more.\n",
            "Coffee beans: 55 grams, Water: 25 milliliters\n",
            "\n",
            "-------------\n",
            "\n"
          ]
        },
        {
          "output_type": "error",
          "ename": "KeyboardInterrupt",
          "evalue": "ignored",
          "traceback": [
            "\u001b[0;31m---------------------------------------------------------------------------\u001b[0m",
            "\u001b[0;31mKeyboardInterrupt\u001b[0m                         Traceback (most recent call last)",
            "\u001b[0;32m<ipython-input-11-8efbb5d2b777>\u001b[0m in \u001b[0;36m<cell line: 49>\u001b[0;34m()\u001b[0m\n\u001b[1;32m     48\u001b[0m \u001b[0;34m\u001b[0m\u001b[0m\n\u001b[1;32m     49\u001b[0m \u001b[0;32mwhile\u001b[0m \u001b[0;32mTrue\u001b[0m\u001b[0;34m:\u001b[0m\u001b[0;34m\u001b[0m\u001b[0;34m\u001b[0m\u001b[0m\n\u001b[0;32m---> 50\u001b[0;31m     \u001b[0muser_choice\u001b[0m \u001b[0;34m=\u001b[0m \u001b[0minput\u001b[0m\u001b[0;34m(\u001b[0m\u001b[0;34m\"Choose a coffee type (espresso, latte, cappuccino), 'q' to quit: \"\u001b[0m\u001b[0;34m)\u001b[0m\u001b[0;34m\u001b[0m\u001b[0;34m\u001b[0m\u001b[0m\n\u001b[0m\u001b[1;32m     51\u001b[0m \u001b[0;34m\u001b[0m\u001b[0m\n\u001b[1;32m     52\u001b[0m     \u001b[0;32mif\u001b[0m \u001b[0muser_choice\u001b[0m \u001b[0;34m==\u001b[0m \u001b[0;34m'q'\u001b[0m\u001b[0;34m:\u001b[0m\u001b[0;34m\u001b[0m\u001b[0;34m\u001b[0m\u001b[0m\n",
            "\u001b[0;32m/usr/local/lib/python3.10/dist-packages/ipykernel/kernelbase.py\u001b[0m in \u001b[0;36mraw_input\u001b[0;34m(self, prompt)\u001b[0m\n\u001b[1;32m    849\u001b[0m                 \u001b[0;34m\"raw_input was called, but this frontend does not support input requests.\"\u001b[0m\u001b[0;34m\u001b[0m\u001b[0;34m\u001b[0m\u001b[0m\n\u001b[1;32m    850\u001b[0m             )\n\u001b[0;32m--> 851\u001b[0;31m         return self._input_request(str(prompt),\n\u001b[0m\u001b[1;32m    852\u001b[0m             \u001b[0mself\u001b[0m\u001b[0;34m.\u001b[0m\u001b[0m_parent_ident\u001b[0m\u001b[0;34m,\u001b[0m\u001b[0;34m\u001b[0m\u001b[0;34m\u001b[0m\u001b[0m\n\u001b[1;32m    853\u001b[0m             \u001b[0mself\u001b[0m\u001b[0;34m.\u001b[0m\u001b[0m_parent_header\u001b[0m\u001b[0;34m,\u001b[0m\u001b[0;34m\u001b[0m\u001b[0;34m\u001b[0m\u001b[0m\n",
            "\u001b[0;32m/usr/local/lib/python3.10/dist-packages/ipykernel/kernelbase.py\u001b[0m in \u001b[0;36m_input_request\u001b[0;34m(self, prompt, ident, parent, password)\u001b[0m\n\u001b[1;32m    893\u001b[0m             \u001b[0;32mexcept\u001b[0m \u001b[0mKeyboardInterrupt\u001b[0m\u001b[0;34m:\u001b[0m\u001b[0;34m\u001b[0m\u001b[0;34m\u001b[0m\u001b[0m\n\u001b[1;32m    894\u001b[0m                 \u001b[0;31m# re-raise KeyboardInterrupt, to truncate traceback\u001b[0m\u001b[0;34m\u001b[0m\u001b[0;34m\u001b[0m\u001b[0m\n\u001b[0;32m--> 895\u001b[0;31m                 \u001b[0;32mraise\u001b[0m \u001b[0mKeyboardInterrupt\u001b[0m\u001b[0;34m(\u001b[0m\u001b[0;34m\"Interrupted by user\"\u001b[0m\u001b[0;34m)\u001b[0m \u001b[0;32mfrom\u001b[0m \u001b[0;32mNone\u001b[0m\u001b[0;34m\u001b[0m\u001b[0;34m\u001b[0m\u001b[0m\n\u001b[0m\u001b[1;32m    896\u001b[0m             \u001b[0;32mexcept\u001b[0m \u001b[0mException\u001b[0m \u001b[0;32mas\u001b[0m \u001b[0me\u001b[0m\u001b[0;34m:\u001b[0m\u001b[0;34m\u001b[0m\u001b[0;34m\u001b[0m\u001b[0m\n\u001b[1;32m    897\u001b[0m                 \u001b[0mself\u001b[0m\u001b[0;34m.\u001b[0m\u001b[0mlog\u001b[0m\u001b[0;34m.\u001b[0m\u001b[0mwarning\u001b[0m\u001b[0;34m(\u001b[0m\u001b[0;34m\"Invalid Message:\"\u001b[0m\u001b[0;34m,\u001b[0m \u001b[0mexc_info\u001b[0m\u001b[0;34m=\u001b[0m\u001b[0;32mTrue\u001b[0m\u001b[0;34m)\u001b[0m\u001b[0;34m\u001b[0m\u001b[0;34m\u001b[0m\u001b[0m\n",
            "\u001b[0;31mKeyboardInterrupt\u001b[0m: Interrupted by user"
          ]
        }
      ]
    },
    {
      "cell_type": "code",
      "source": [
        "class LibraryCatalog:\n",
        "    def __init__(self):\n",
        "        pass\n",
        "\n",
        "# Example usage:\n",
        "catalog = LibraryCatalog()\n",
        "print(catalog.add_book(\"The Catcher in the Rye\", \"J.D. Salinger\", \"978-0-316-76948-7\"))\n",
        "print(catalog.add_book(\"To Kill a Mockingbird\", \"Harper Lee\", \"978-0-06-112008-4\"))\n",
        "print(catalog.add_book(\"1984\", \"George Orwell\", \"978-0-452-28423-4\"))\n",
        "\n",
        "print(catalog.borrow_book(\"To Kill a Mockingbird\", \"Harper Lee\"))\n",
        "print(catalog.return_book(\"To Kill a Mockingbird\", \"Harper Lee\"))\n",
        "print(catalog.return_book(\"To Kill a Mockingbird\", \"Harper Lee\"))\n"
      ],
      "metadata": {
        "colab": {
          "base_uri": "https://localhost:8080/"
        },
        "id": "BUSLterTYRv6",
        "outputId": "469dfa2e-fe8e-4f33-f0bf-b4f938ed83a9"
      },
      "execution_count": null,
      "outputs": [
        {
          "output_type": "stream",
          "name": "stdout",
          "text": [
            "Added 'The Catcher in the Rye' by J.D. Salinger to the catalog.\n",
            "Added 'To Kill a Mockingbird' by Harper Lee to the catalog.\n",
            "Added '1984' by George Orwell to the catalog.\n",
            "Borrowed 'To Kill a Mockingbird' by Harper Lee.\n",
            "Returned 'To Kill a Mockingbird' by Harper Lee.\n",
            "Book 'To Kill a Mockingbird' by Harper Lee' not found in the borrowed list.\n"
          ]
        }
      ]
    },
    {
      "cell_type": "code",
      "source": [],
      "metadata": {
        "id": "v5zGyYrbYRtD"
      },
      "execution_count": null,
      "outputs": []
    },
    {
      "cell_type": "code",
      "source": [],
      "metadata": {
        "id": "y_GrHKDeFTAR"
      },
      "execution_count": null,
      "outputs": []
    }
  ]
}